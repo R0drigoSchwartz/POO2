{
 "cells": [
  {
   "cell_type": "markdown",
   "id": "73b3da1e-93e0-46b3-8090-0b4dbe4d1eec",
   "metadata": {},
   "source": [
    "##### Exercício 1. Faça um Programa que leia um vetor de 5 números inteiros e mostre-os.\r"
   ]
  },
  {
   "cell_type": "code",
   "execution_count": 4,
   "id": "b01b064d-6ce9-4dd1-a35d-d8f702f41cec",
   "metadata": {},
   "outputs": [
    {
     "name": "stdin",
     "output_type": "stream",
     "text": [
      " 8 7 12 15 29\n"
     ]
    },
    {
     "name": "stdout",
     "output_type": "stream",
     "text": [
      "8 7 12 15 29 "
     ]
    }
   ],
   "source": [
    "vet = list(map(int, input().split()))\n",
    "\n",
    "for i in range(len(vet)):\n",
    "    print(f\"{vet[i]} \", end='')\n"
   ]
  },
  {
   "cell_type": "markdown",
   "id": "ae864857-d17a-4a24-a476-bf5425dbee89",
   "metadata": {},
   "source": [
    "##### Exercício 2. Faça um Programa que leia um vetor de 10 números reais e mostre-os na \n",
    "ordem inversa.\r"
   ]
  },
  {
   "cell_type": "code",
   "execution_count": 9,
   "id": "fde479f9-45e1-4552-842e-dadeb3a27028",
   "metadata": {},
   "outputs": [
    {
     "name": "stdin",
     "output_type": "stream",
     "text": [
      " 1 2 3 4 5 6 7 8 9 10\n"
     ]
    },
    {
     "name": "stdout",
     "output_type": "stream",
     "text": [
      "10 9 8 7 6 5 4 3 2 1 "
     ]
    }
   ],
   "source": [
    "vet = list(map(int, input().split()))\n",
    "vet.sort(reverse=True)\n",
    "\n",
    "for i in range(len(vet)):\n",
    "    print(f\"{vet[i]} \", end='')"
   ]
  },
  {
   "cell_type": "markdown",
   "id": "e6a644ba-3a65-47f9-abcb-ba7ee6dd5641",
   "metadata": {},
   "source": [
    "##### Exercício 3. Faça um Programa que leia 4 notas, mostre as notas e a média na tela.\r"
   ]
  },
  {
   "cell_type": "code",
   "execution_count": 12,
   "id": "52fc121c-a907-4d99-be05-ccf2e622c855",
   "metadata": {},
   "outputs": [
    {
     "name": "stdin",
     "output_type": "stream",
     "text": [
      " 7 8 9 10\n"
     ]
    },
    {
     "name": "stdout",
     "output_type": "stream",
     "text": [
      "A média das 4 notas é 8.5\n"
     ]
    }
   ],
   "source": [
    "nota1, nota2, nota3, nota4 = map(int, input().split())\n",
    "media = (nota1 + nota2 + nota3 + nota4)/4\n",
    "print(f'A média das 4 notas é {media}')"
   ]
  },
  {
   "cell_type": "markdown",
   "id": "7b21aaf5-8c05-49e2-a6fe-536fb824c9fe",
   "metadata": {},
   "source": [
    "##### Exercício 4. Faça um Programa que leia um vetor de 10 caracteres, e diga quantas \n",
    "consoantes foram lidas. Imprima as consoantes."
   ]
  },
  {
   "cell_type": "code",
   "execution_count": 19,
   "id": "20b8ccf3-825f-4c9c-bcb0-5f5de164069a",
   "metadata": {},
   "outputs": [
    {
     "name": "stdin",
     "output_type": "stream",
     "text": [
      "  a b c d e f g h i j\n"
     ]
    },
    {
     "name": "stdout",
     "output_type": "stream",
     "text": [
      "O número de consoantes lidas foi 7 e as consoantes lidas foram:\n",
      "b c d f g h j "
     ]
    }
   ],
   "source": [
    "vet = list(map(str, input().split()))\n",
    "vet_consoantes = []\n",
    "contador = 0\n",
    "\n",
    "for i in range(len(vet)):\n",
    "    if vet[i] not in ['a', 'e', 'i', 'o', 'u']:\n",
    "        contador += 1\n",
    "        vet_consoantes.append(vet[i])\n",
    "\n",
    "if len(vet_consoantes) == 0:\n",
    "    print(f'Nenhuma consoante foi lida')\n",
    "else:\n",
    "    print(f'O número de consoantes lidas foi {contador} e as consoantes lidas foram:')\n",
    "    for i in range(len(vet_consoantes)):\n",
    "        print(f'{vet_consoantes[i]} ',end='')\n",
    "        "
   ]
  },
  {
   "cell_type": "markdown",
   "id": "78a83218-4ac8-480c-8320-ffc95f1b7570",
   "metadata": {},
   "source": [
    "##### Exercício 5. Faça um Programa que leia 20 números inteiros e armazene-os num \n",
    "vetor. Armazene os números pares no vetor PAR e os números IMPARES no veto \r\n",
    "impar. Imprima os três vetores.\r\n"
   ]
  },
  {
   "cell_type": "code",
   "execution_count": 23,
   "id": "ac525136-536e-49d1-aff6-4fd0aa42c08b",
   "metadata": {},
   "outputs": [
    {
     "name": "stdin",
     "output_type": "stream",
     "text": [
      " 1 2 3 4 5 6 7 8 9 10 11 12 13 14 15 16 17 18 19 20\n"
     ]
    },
    {
     "name": "stdout",
     "output_type": "stream",
     "text": [
      "O vetor dos números de entrada: [1, 2, 3, 4, 5, 6, 7, 8, 9, 10, 11, 12, 13, 14, 15, 16, 17, 18, 19, 20]\n",
      "O vetor dos números pares: [2, 4, 6, 8, 10, 12, 14, 16, 18, 20]\n",
      "O vetor dos números ímpares: [1, 3, 5, 7, 9, 11, 13, 15, 17, 19]\n"
     ]
    }
   ],
   "source": [
    "vet = list(map(int, input().split()))\n",
    "vet_pares = []\n",
    "vet_impares = []\n",
    "\n",
    "for i in range(len(vet)):\n",
    "    if vet[i] % 2 == 0:\n",
    "        vet_pares.append(vet[i])\n",
    "    else:\n",
    "        vet_impares.append(vet[i])\n",
    "\n",
    "print(f'O vetor dos números de entrada: {vet}')\n",
    "print(f'O vetor dos números pares: {vet_pares}')\n",
    "print(f'O vetor dos números ímpares: {vet_impares}')\n",
    "\n",
    "    "
   ]
  },
  {
   "cell_type": "markdown",
   "id": "ca868894-636b-45c7-a1ad-2e589d1ae101",
   "metadata": {},
   "source": [
    "##### Exercício 6. Faça um Programa que peça as quatro notas de 10 alunos, calcule e \n",
    "armazene num vetor a média de cada aluno, imprima o número de alunos com médi \r\n",
    "maior ou igual a 7.0.\r"
   ]
  },
  {
   "cell_type": "code",
   "execution_count": 24,
   "id": "43339ae0-54f9-45e2-9df2-14e04ad4c56f",
   "metadata": {},
   "outputs": [
    {
     "name": "stdin",
     "output_type": "stream",
     "text": [
      " 10 10 10 10\n",
      " 8 8 8 8\n",
      " 7 7 7 7\n",
      " 6 6 6 6\n",
      " 5 5 5 5\n",
      " 4 4 4 4\n",
      " 3 3 3 3\n",
      " 2 2 2 2\n",
      " 10 10 10 10\n",
      " 2 3 4 5\n"
     ]
    },
    {
     "name": "stdout",
     "output_type": "stream",
     "text": [
      "O número de alunos com média maior ou igual a 7 foi: 4\n"
     ]
    }
   ],
   "source": [
    "alunos_aprovados = 0\n",
    "\n",
    "for i in range(10):\n",
    "    notas = list(map(int, input().split()))\n",
    "    media = 0\n",
    "    \n",
    "    for i in range(len(notas)):\n",
    "        media += notas[i]\n",
    "    media = media / 4\n",
    "\n",
    "    if media >= 7:\n",
    "        alunos_aprovados += 1\n",
    "\n",
    "print(f'O número de alunos com média maior ou igual a 7 foi: {alunos_aprovados}')"
   ]
  },
  {
   "cell_type": "markdown",
   "id": "6627243e-4882-4a0c-b6a3-3592e13b74dd",
   "metadata": {},
   "source": [
    "##### Exercício 7. Faça um Programa que leia um vetor de 5 números inteiros, mostre a \n",
    "soma, a multiplicação e os números.\r"
   ]
  },
  {
   "cell_type": "code",
   "execution_count": 29,
   "id": "25627774-3297-450c-bcb6-658a0d6ac89e",
   "metadata": {},
   "outputs": [
    {
     "name": "stdin",
     "output_type": "stream",
     "text": [
      " 7 8 9 10 11\n"
     ]
    },
    {
     "name": "stdout",
     "output_type": "stream",
     "text": [
      "Os números lidos foram: 7, 8, 9, 10, 11\n",
      "A soma desses números resulta em: 45\n",
      "A multiplicação desses números resulta em: 55440\n"
     ]
    }
   ],
   "source": [
    "vet = list(map(int, input().split()))\n",
    "soma = 0\n",
    "multiplicacao = 1\n",
    "str_aux = ''\n",
    "\n",
    "for i in range(len(vet)):\n",
    "    soma += vet[i]\n",
    "    multiplicacao *= vet[i]\n",
    "    if i != len(vet)-1:\n",
    "        str_aux += str(vet[i]) + ', '\n",
    "    else:\n",
    "        str_aux += str(vet[i])\n",
    "\n",
    "print(f'Os números lidos foram: {str_aux}')\n",
    "print(f'A soma desses números resulta em: {soma}')\n",
    "print(f'A multiplicação desses números resulta em: {multiplicacao}')"
   ]
  },
  {
   "cell_type": "markdown",
   "id": "d70c1e09-6059-493a-8ace-6d5156196940",
   "metadata": {},
   "source": [
    "##### Exercício 8. Faça um Programa que peça a idade e a altura de 5 pessoas, armazene \n",
    "cada informação no seu respectivo vetor. Imprima a idade e a altura na ordem invers \r\n",
    "a ordem lida.\r"
   ]
  },
  {
   "cell_type": "code",
   "execution_count": 33,
   "id": "77af7018-4b8c-4609-b511-74d1ce400a43",
   "metadata": {},
   "outputs": [
    {
     "name": "stdin",
     "output_type": "stream",
     "text": [
      "Diga sua idade e sua altura em cm, respectivamente: 12 160\n",
      "Diga sua idade e sua altura em cm, respectivamente: 13 165\n",
      "Diga sua idade e sua altura em cm, respectivamente: 14 170\n",
      "Diga sua idade e sua altura em cm, respectivamente: 19 185\n",
      "Diga sua idade e sua altura em cm, respectivamente: 25 190\n"
     ]
    },
    {
     "name": "stdout",
     "output_type": "stream",
     "text": [
      "As idades lidas na ordem inversa são: 25, 19, 14, 13, 12\n",
      "As alturas lidas na ordem inversa são: 190, 185, 170, 165, 160\n"
     ]
    }
   ],
   "source": [
    "vet_idade = []\n",
    "vet_altura = []\n",
    "str_idade = ''\n",
    "str_altura = ''\n",
    "\n",
    "for i in range(5):\n",
    "    idade, altura = map(str, input('Diga sua idade e sua altura em cm, respectivamente:').split())\n",
    "    vet_idade.append(idade)\n",
    "    vet_altura.append(altura)\n",
    "    \n",
    "vet_idade.sort(reverse=True)\n",
    "vet_altura.sort(reverse=True)\n",
    "\n",
    "for i in range(len(vet_idade)):\n",
    "    if i != len(vet_idade)-1:\n",
    "        str_idade += vet_idade[i] + ', '\n",
    "        str_altura += vet_altura[i] + ', '\n",
    "    else:\n",
    "        str_idade += vet_idade[i] \n",
    "        str_altura += vet_altura[i] \n",
    "\n",
    "print(f'As idades lidas na ordem inversa são: {str_idade}')\n",
    "print(f'As alturas lidas na ordem inversa são: {str_altura}')"
   ]
  },
  {
   "cell_type": "markdown",
   "id": "0b116f7f-73ab-4525-96fb-4734969c0db1",
   "metadata": {},
   "source": [
    "##### Exercício 9. Faça um Programa que leia um vetor A com 10 números inteiros, calcule \n",
    "e mostre a soma dos quadrados dos elementos do vetor.\r"
   ]
  },
  {
   "cell_type": "code",
   "execution_count": 34,
   "id": "f3c108f4-0c6a-44ab-873d-6c7273affbdc",
   "metadata": {},
   "outputs": [
    {
     "name": "stdin",
     "output_type": "stream",
     "text": [
      " 1 2 3 4 5 6 7 8 9 10\n"
     ]
    },
    {
     "name": "stdout",
     "output_type": "stream",
     "text": [
      "A soma dos quadros dos elementos do vetor é: 385\n"
     ]
    }
   ],
   "source": [
    "vet = list(map(int, input().split()))\n",
    "soma_quadrados = 0\n",
    "\n",
    "for i in range(len(vet)):\n",
    "    soma_quadrados += vet[i] ** 2\n",
    "\n",
    "print(f'A soma dos quadros dos elementos do vetor é: {soma_quadrados}')"
   ]
  },
  {
   "cell_type": "markdown",
   "id": "4dcfccdd-0477-464f-9a27-34ac21d7bc5f",
   "metadata": {},
   "source": [
    "##### Exercício 10. Faça um Programa que leia dois vetores com 10 elementos cada. Gere \n",
    "um terceiro vetor de 20 elementos, cujos valores deverão ser compostos pelo \r\n",
    "elementos intercalados dos dois outros vetores."
   ]
  },
  {
   "cell_type": "code",
   "execution_count": 38,
   "id": "bab614f6-0d80-4854-a307-6a5af1e00d1b",
   "metadata": {},
   "outputs": [
    {
     "name": "stdin",
     "output_type": "stream",
     "text": [
      "Elementos do vetor 1: a 2 str b s l 9 cachorro sol 12\n",
      "Elementos do vetor 2: s x y sapo azul 897 xpto 8 7 23\n"
     ]
    },
    {
     "name": "stdout",
     "output_type": "stream",
     "text": [
      "Os dois vetores intercalados resultam em:\n",
      "a s 2 x str y b sapo s azul l 897 9 xpto cachorro 8 sol 7 12 23 "
     ]
    }
   ],
   "source": [
    "vet1 = list(map(str, input('Elementos do vetor 1:').split()))\n",
    "vet2 = list(map(str, input('Elementos do vetor 2:').split()))\n",
    "vet3 = []\n",
    "\n",
    "for i in range(len(vet1)):\n",
    "    vet3.append(vet1[i])\n",
    "    vet3.append(vet2[i])\n",
    "    \n",
    "print(f'Os dois vetores intercalados resultam em:')\n",
    "for i in range(len(vet1)*2):\n",
    "    print(f'{vet3[i]} ',end='')"
   ]
  }
 ],
 "metadata": {
  "kernelspec": {
   "display_name": "Python 3 (ipykernel)",
   "language": "python",
   "name": "python3"
  },
  "language_info": {
   "codemirror_mode": {
    "name": "ipython",
    "version": 3
   },
   "file_extension": ".py",
   "mimetype": "text/x-python",
   "name": "python",
   "nbconvert_exporter": "python",
   "pygments_lexer": "ipython3",
   "version": "3.11.4"
  }
 },
 "nbformat": 4,
 "nbformat_minor": 5
}
