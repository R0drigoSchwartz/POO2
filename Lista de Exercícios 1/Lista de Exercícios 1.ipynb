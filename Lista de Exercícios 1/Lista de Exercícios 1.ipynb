{
 "cells": [
  {
   "cell_type": "markdown",
   "metadata": {},
   "source": [
    "# Lista de Exercícios 1 - POO2"
   ]
  },
  {
   "attachments": {},
   "cell_type": "markdown",
   "metadata": {},
   "source": [
    "##### Rodrigo Schwartz - 23100471\n",
    "---"
   ]
  },
  {
   "cell_type": "markdown",
   "metadata": {},
   "source": [
    "### Warm up "
   ]
  },
  {
   "cell_type": "markdown",
   "metadata": {},
   "source": [
    "##### 1) Crie a classe Televisao com os atributos ligada (inicializado com valor False) e canal (inicializado com valor 2).\n"
   ]
  },
  {
   "cell_type": "code",
   "execution_count": null,
   "metadata": {},
   "outputs": [],
   "source": [
    "class Televisao:\n",
    "    def __init__(self, ligada=False, canal=2):\n",
    "        self.ligada = ligada\n",
    "        self.canal = canal"
   ]
  },
  {
   "cell_type": "markdown",
   "metadata": {},
   "source": [
    "##### 2) Adicione os atributos tamanho e marca à classe Televisao. Crie dois objetos Televisao e atribua tamanhos e marcas diferentes. Depois, imprima o valor desses atributos de forma a confirmar independência dos valores de cada instância (objeto)."
   ]
  },
  {
   "cell_type": "code",
   "execution_count": 16,
   "metadata": {},
   "outputs": [
    {
     "name": "stdout",
     "output_type": "stream",
     "text": [
      "O tamanho da TV é de 60 polegadas e é da marca LG\n",
      "O tamanho da TV é de 32 polegadas e é da marca Samsung\n"
     ]
    }
   ],
   "source": [
    "class Televisao:\n",
    "    def __init__(self, ligada=False, canal=2, tamanho='', marca=''):\n",
    "        self.ligada = ligada\n",
    "        self.canal = canal\n",
    "        self.tamanho = tamanho\n",
    "        self.marca = marca\n",
    "\n",
    "tv1 = Televisao(tamanho=60, marca=\"LG\")\n",
    "tv2 = Televisao(tamanho=32, marca=\"Samsung\")\n",
    "print(f\"O tamanho da TV é de {tv1.tamanho} polegadas e é da marca {tv1.marca}\")\n",
    "print(f\"O tamanho da TV é de {tv2.tamanho} polegadas e é da marca {tv2.marca}\")\n",
    "\n"
   ]
  },
  {
   "cell_type": "markdown",
   "metadata": {},
   "source": [
    "##### 3) Adicione dois novos métodos muda_canal_para_cima e muda_canal_para_baixo. Atualmente, a classe Televisao inicializa o canal com 2. Modifique a classe televisao de forma a receber o canal inicial em seu construtor."
   ]
  },
  {
   "cell_type": "code",
   "execution_count": 20,
   "metadata": {},
   "outputs": [
    {
     "name": "stdout",
     "output_type": "stream",
     "text": [
      "Você está no canal 9 na TV1\n",
      "Você está no canal 10 na TV1\n",
      "Você está no canal 28 na TV2\n",
      "Você está no canal 27 na TV2\n"
     ]
    }
   ],
   "source": [
    "class Televisao:\n",
    "    def __init__(self, ligada=False, canal='inicial', tamanho='', marca=''):\n",
    "        self.ligada = ligada\n",
    "        self.canal = canal\n",
    "        self.tamanho = tamanho\n",
    "        self.marca = marca\n",
    "\n",
    "    def muda_canal_para_cima(self):\n",
    "        self.canal += 1\n",
    "        return self.canal \n",
    "\n",
    "    def muda_canal_para_baixo(self):\n",
    "        self.canal -= 1\n",
    "        return self.canal \n",
    "\n",
    "tv1 = Televisao(canal=8)\n",
    "tv2 = Televisao(canal= 29)\n",
    "print(f'Você está no canal {tv1.muda_canal_para_cima()} na TV1')\n",
    "print(f'Você está no canal {tv1.muda_canal_para_cima()} na TV1')\n",
    "print(f'Você está no canal {tv2.muda_canal_para_baixo()} na TV2')\n",
    "print(f'Você está no canal {tv2.muda_canal_para_baixo()} na TV2')"
   ]
  },
  {
   "cell_type": "markdown",
   "metadata": {},
   "source": [
    "##### 4) Adicione mais dois atributos canal_minimo (valor padrão 1) e canal_maximo (valor \n",
    "padrão 99) e modifique a classe Televisao de forma que, se pedirmos para mudar  \r\n",
    "canal para baixo, além do mínimo, ela vá para o canal máximo. Se mudarmos pa a\r\n",
    "cima, além do canal máximo, que volte ao canal mín.mo.\r",
    ".\r"
   ]
  },
  {
   "cell_type": "code",
   "execution_count": 35,
   "metadata": {},
   "outputs": [
    {
     "name": "stdout",
     "output_type": "stream",
     "text": [
      "Você está no canal 1 na TV1\n",
      "Você está no canal 99 na TV2\n",
      "Você está no canal 98 na TV2\n"
     ]
    }
   ],
   "source": [
    "class Televisao:\n",
    "    def __init__(self, ligada=False, canal='inicial', canal_minimo=1, canal_maximo=99, tamanho='', marca=''):\n",
    "        self.ligada = ligada\n",
    "        self.canal = canal\n",
    "        self.canal_maximo = canal_maximo\n",
    "        self.canal_minimo = canal_minimo\n",
    "        self.tamanho = tamanho\n",
    "        self.marca = marca\n",
    "\n",
    "    def muda_canal_para_cima(self):\n",
    "        if self.canal == self.canal_maximo:\n",
    "            self.canal = self.canal_minimo\n",
    "            return self.canal\n",
    "        else:\n",
    "            self.canal += 1\n",
    "            return self.canal\n",
    "\n",
    "    def muda_canal_para_baixo(self):\n",
    "        if self.canal == self.canal_minimo:\n",
    "            self.canal = self.canal_maximo\n",
    "            return self.canal\n",
    "        else:\n",
    "            self.canal -= 1\n",
    "            return self.canal\n",
    "\n",
    "tv1 = Televisao(canal=99)\n",
    "tv2 = Televisao(canal=1)\n",
    "print(f'Você está no canal {tv1.muda_canal_para_cima()} na TV1')\n",
    "print(f'Você está no canal {tv2.muda_canal_para_baixo()} na TV2')\n",
    "print(f'Você está no canal {tv2.muda_canal_para_baixo()} na TV2')\n"
   ]
  },
  {
   "cell_type": "markdown",
   "metadata": {},
   "source": [
    "##### 5) Modifique o construtor da classe Televisao de forma que canal_minimo e canal_maximo sseja parametros opcionais valendo respectivamente 2 e 14"
   ]
  },
  {
   "cell_type": "code",
   "execution_count": 49,
   "metadata": {},
   "outputs": [
    {
     "name": "stdout",
     "output_type": "stream",
     "text": [
      "Você está no canal 2 na TV1\n",
      "Você está no canal 14 na TV2\n",
      "Você está no canal 13 na TV2\n"
     ]
    }
   ],
   "source": [
    "class Televisao:\n",
    "    def __init__(self, ligada=False, canal='inicial', canal_minimo=2, canal_maximo=14, tamanho='', marca=''):\n",
    "        self.ligada = ligada\n",
    "        self.canal = canal\n",
    "        self.canal_maximo = canal_maximo\n",
    "        self.canal_minimo = canal_minimo\n",
    "        self.tamanho = tamanho\n",
    "        self.marca = marca\n",
    "\n",
    "    def muda_canal_para_cima(self):\n",
    "        if self.canal == self.canal_maximo:\n",
    "            self.canal = self.canal_minimo\n",
    "            return self.canal\n",
    "        else:\n",
    "            self.canal += 1\n",
    "            return self.canal\n",
    "\n",
    "    def muda_canal_para_baixo(self):\n",
    "        if self.canal == self.canal_minimo:\n",
    "            self.canal = self.canal_maximo\n",
    "            return self.canal\n",
    "        else:\n",
    "            self.canal -= 1\n",
    "            return self.canal\n",
    "\n",
    "tv1 = Televisao(canal=14)\n",
    "tv2 = Televisao(canal=2)\n",
    "print(f'Você está no canal {tv1.muda_canal_para_cima()} na TV1')\n",
    "print(f'Você está no canal {tv2.muda_canal_para_baixo()} na TV2')\n",
    "print(f'Você está no canal {tv2.muda_canal_para_baixo()} na TV2')\n",
    "\n"
   ]
  },
  {
   "cell_type": "markdown",
   "metadata": {},
   "source": [
    "##### 6) Crie duas instancias de Televisao, especificando o valor de canal_minimo e \n",
    "canal_maximo por nome."
   ]
  },
  {
   "cell_type": "code",
   "execution_count": 47,
   "metadata": {},
   "outputs": [
    {
     "name": "stdout",
     "output_type": "stream",
     "text": [
      "A TV1 vai do canal 5 até o 23\n",
      "A TV2 vai do canal 2 até o 10\n"
     ]
    }
   ],
   "source": [
    "tv1 = Televisao(canal_minimo=5, canal_maximo=23)\n",
    "tv2 = Televisao(canal_minimo=2, canal_maximo=10)\n",
    "print(f'A TV1 vai do canal {tv1.canal_minimo} até o {tv1.canal_maximo}')\n",
    "print(f'A TV2 vai do canal {tv2.canal_minimo} até o {tv2.canal_maximo}')\n"
   ]
  },
  {
   "cell_type": "markdown",
   "metadata": {},
   "source": [
    "##### 7) Crie classes para representar estados e cidades. Cada estado tem um nome, sigla e\n",
    "cidades. Cada cidade tem nome e população. Escreva um programa de testes que cri \r\n",
    "três estados com algumas cidades em cada um. Exiba a população de cada esta o\r\n",
    "como a soma da população de suas cidades.\r"
   ]
  },
  {
   "cell_type": "code",
   "execution_count": 27,
   "metadata": {},
   "outputs": [
    {
     "name": "stdout",
     "output_type": "stream",
     "text": [
      "A soma dessas cidades de Santa Catarina é de 990000 habitantes!\n",
      "A soma dessas cidades do Parana é de 2435000 habitantes!\n",
      "A soma dessas cidades do Rio Grande do Sul é de 1726500 habitantes!\n"
     ]
    }
   ],
   "source": [
    "class Cidade:\n",
    "    def __init__(self, nome='', populacao=''):\n",
    "        self.nome = nome\n",
    "        self.populacao = populacao\n",
    "        \n",
    "class Estados:\n",
    "    def __init__(self, nome='', sigla='', cidades=[]):\n",
    "        self.nome = nome\n",
    "        self.sigla = sigla\n",
    "        self.cidades = cidades\n",
    "\n",
    "    def calcular_populacao(self):\n",
    "        soma = 0\n",
    "        for cidade in self.cidades:\n",
    "            soma += cidade.populacao\n",
    "        return soma\n",
    "\n",
    "bq = Cidade('Brusque', 130000)\n",
    "flo = Cidade('Florianopolis', 500000)\n",
    "blu = Cidade('Blumenau', 360000)\n",
    "\n",
    "cur = Cidade('Curitiba', 1700000)\n",
    "cas = Cidade('Cascavel', 332000)\n",
    "mar = Cidade('Maringa', 403000)\n",
    "\n",
    "poa = Cidade('Porto Alegre', 1330000)\n",
    "gra = Cidade('Gramado',  36500)\n",
    "pel = Cidade('Pelotas', 360000)\n",
    "\n",
    "estado1 = Estados(nome='Santa Catarina', cidades=[bq, flo, blu])\n",
    "estado2 = Estados(nome='Parana', cidades=[cur, cas, mar])\n",
    "estado3 = Estados(nome='Rio Grande do Sul', cidades=[poa, gra, pel])\n",
    "\n",
    "print(f'A soma dessas cidades de {estado1.nome} é de {estado1.calcular_populacao()} habitantes!')\n",
    "print(f'A soma dessas cidades do {estado2.nome} é de {estado2.calcular_populacao()} habitantes!')\n",
    "print(f'A soma dessas cidades do {estado3.nome} é de {estado3.calcular_populacao()} habitantes!')\n",
    "\n",
    "\n",
    "        \n",
    "\n",
    "\n",
    "        "
   ]
  },
  {
   "cell_type": "markdown",
   "metadata": {},
   "source": [
    "#### 8) Escreva uma classe Coordenada com atributos x e y, e métodos para mostrar as \n",
    "coordenadas, calcular a distancia para outra coordenada, comparar coordenadas \r\n",
    "mostrar no formato coordenada polar."
   ]
  },
  {
   "cell_type": "code",
   "execution_count": 63,
   "metadata": {},
   "outputs": [
    {
     "name": "stdout",
     "output_type": "stream",
     "text": [
      "As coordenadas desse ponto são (3, 8)!\n",
      "A distancia entre os pontos (3, 8) e (3, 23) é de 15.0 unidades\n",
      "A coordenada polar do ponto (3, 8) é (8.54, 69.44)!\n"
     ]
    }
   ],
   "source": [
    "import math\n",
    "\n",
    "class Coordenada:\n",
    "    def __init__(self, x=0, y=0):\n",
    "        self.x = x\n",
    "        self.y = y\n",
    "\n",
    "    def mostrar_coordenadas(self):\n",
    "        return f'As coordenadas desse ponto são {self.x,self.y}!'\n",
    "\n",
    "    def distancia_entre_coordenadas(self, x2, y2):\n",
    "        distancia = 0\n",
    "        distancia = math.sqrt((x2 - self.x) ** 2 + (y2 - self.y) ** 2)\n",
    "        if x2 == 0 and y2 == 0:\n",
    "            return distancia\n",
    "        return f'A distancia entre os pontos {self.x,self.y} e {x2,y2} é de {distancia} unidades'\n",
    "\n",
    "    def formato_polar(self):\n",
    "        r = self.distancia_entre_coordenadas(0,0)\n",
    "        angteta = math.atan2(self.y, self.x)\n",
    "        angteta = math.degrees(angteta)\n",
    "        return f'A coordenada polar do ponto {self.x, self.y} é ({r:.2f}, {angteta:.2f})!'\n",
    "\n",
    "ponto1 = Coordenada(3, 8)\n",
    "print(ponto1.mostrar_coordenadas())\n",
    "print(ponto1.distancia_entre_coordenadas(3, 23))\n",
    "print(ponto1.formato_polar())\n",
    "    "
   ]
  },
  {
   "cell_type": "markdown",
   "metadata": {},
   "source": [
    "##### 9) Escreva classes para as seguintes formas: quadrado, retângulo e círculo.\r"
   ]
  },
  {
   "cell_type": "code",
   "execution_count": 66,
   "metadata": {},
   "outputs": [
    {
     "name": "stdout",
     "output_type": "stream",
     "text": [
      "O valor do lado do quadrado é 8!\n",
      "O valor da base e da altura do retângulo são respectivamente 4 e 5!\n",
      "O valor do raio do circulo é 3!\n"
     ]
    }
   ],
   "source": [
    "class Quadrado:\n",
    "    def __init__(self, lado):\n",
    "        self.lado = lado\n",
    "\n",
    "class Retangulo:\n",
    "    def __init__(self, base, altura):\n",
    "        self.base = base\n",
    "        self.altura = altura\n",
    "\n",
    "class Circulo:\n",
    "    def __init__(self, raio):\n",
    "        self.raio = raio\n",
    "\n",
    "quadrado = Quadrado(8)\n",
    "retangulo = Retangulo(4, 5)\n",
    "circulo = Circulo(3)\n",
    "print(f'O valor do lado do quadrado é {quadrado.lado}!')\n",
    "print(f'O valor da base e da altura do retângulo são respectivamente {retangulo.base} e {retangulo.altura}!')\n",
    "print(f'O valor do raio do circulo é {circulo.raio}!')"
   ]
  },
  {
   "cell_type": "markdown",
   "metadata": {},
   "source": [
    "##### 10) Escreva uma classe Fracao que armazena dois inteiros, numerador e denominador.\r\n",
    "a) Implemente metodos para somas, subtração, multiplicação e divisão de dua \r\n",
    "frações\r\n",
    "b) Implemente o método que imprime uma fração no formato numerado  /\r\n",
    "denominador\r\n",
    "c) Implemente um método que inverte a fração\r\n",
    "d) Implemente um método que retorna a fração em valor real\r\n",
    "e) Implemente um método que cria uma fração (numerador/denominador) a partir\r\n",
    "de um número real"
   ]
  },
  {
   "cell_type": "code",
   "execution_count": 7,
   "metadata": {},
   "outputs": [
    {
     "name": "stdout",
     "output_type": "stream",
     "text": [
      "A soma da fração 14/8 com a fração 3/5 resulta em 94/40\n",
      "A subtração da fração 14/8 com a fração 3/5 resulta em 46/40\n",
      "A inversa da fração 14/8 é 8/14\n",
      "O produto entre as frações 14/8 e 5/5 é 70/40\n",
      "A divisão entre as frações 14/8 e 4/3 é 42/32\n",
      "O valor real da fração 14/8 é 1.75\n"
     ]
    }
   ],
   "source": [
    "class Fracao:\n",
    "    def __init__(self, numerador, denominador):\n",
    "        self.numerador = numerador\n",
    "        self.denominador = denominador\n",
    "\n",
    "    def mdc(self, denominador2):\n",
    "        var = self.denominador\n",
    "        while denominador2:\n",
    "            aux = var\n",
    "            var = denominador2\n",
    "            denominador2 = aux % denominador2\n",
    "        return var\n",
    "\n",
    "    def mmc(self, denominador2):\n",
    "        return (self.denominador * denominador2) // self.mdc(denominador2)   \n",
    "\n",
    "    def somar(self, numerador2, denominador2):\n",
    "        somanumerador = 0\n",
    "        novodenominador = 0\n",
    "        escalarfracao1 = 0\n",
    "        escalarfracao2 = 0\n",
    "        if self.denominador == denominador2:\n",
    "            somanumerador = int(self.numerador + numerador2)\n",
    "            return f'A soma da fração {self.numerador}/{self.denominador} com a fração {numerador2}/{denominador2} resulta em {somanumerador}/{self.denominador}'\n",
    "        else:\n",
    "            novodenominador = self.mmc(denominador2)\n",
    "            escalarfracao1 = novodenominador / self.denominador\n",
    "            escalarfracao2 = novodenominador / denominador2\n",
    "            somanumerador = int((escalarfracao1 * self.numerador) + (escalarfracao2 * numerador2))\n",
    "            return f'A soma da fração {self.numerador}/{self.denominador} com a fração {numerador2}/{denominador2} resulta em {somanumerador}/{novodenominador}'\n",
    "            \n",
    "\n",
    "    def subtrair(self, numerador2, denominador2):\n",
    "        subtraçãonumerador= 0\n",
    "        novodenominador = 0\n",
    "        escalarfracao1 = 0\n",
    "        escalarfracao2 = 0\n",
    "        if self.denominador == denominador2:\n",
    "            subtraçãonumerador = int(self.numerador - numerador2)\n",
    "            return f'A subtração da fração {self.numerador}/{self.denominador} com a fração {numerador2}/{denominador2} resulta em {subtraçãonumerador}/{self.denominador}'\n",
    "        else:\n",
    "            novodenominador = self.mmc(denominador2)\n",
    "            escalarfracao1 = novodenominador / self.denominador\n",
    "            escalarfracao2 = novodenominador / denominador2\n",
    "            subtraçãonumerador = int((escalarfracao1 * self.numerador) - (escalarfracao2 * numerador2))\n",
    "            return f'A subtração da fração {self.numerador}/{self.denominador} com a fração {numerador2}/{denominador2} resulta em {subtraçãonumerador}/{novodenominador}'\n",
    "\n",
    "    def inverter(self):\n",
    "        var1 = self.numerador\n",
    "        var2 = self.denominador\n",
    "        aux = var1\n",
    "        var1 = var2\n",
    "        var2 = aux\n",
    "        return f'A inversa da fração {self.numerador}/{self.denominador} é {var1}/{var2}'\n",
    "\n",
    "    def multiplicar(self, numerador2, denominador2):\n",
    "        novonumerador = self.numerador * numerador2\n",
    "        novodenominador = self.denominador * denominador2\n",
    "        return f'O produto entre as frações {self.numerador}/{self.denominador} e {numerador2}/{denominador2} é {novonumerador}/{novodenominador}'\n",
    "\n",
    "    def dividir(self, numerador2, denominador2):\n",
    "        novonumerador = self.numerador * denominador2\n",
    "        novodenominador = self.denominador * numerador2\n",
    "        return f'A divisão entre as frações {self.numerador}/{self.denominador} e {numerador2}/{denominador2} é {novonumerador}/{novodenominador}'\n",
    "\n",
    "    def valor_real(self):\n",
    "        valor = self.numerador/self.denominador\n",
    "        return f'O valor real da fração {self.numerador}/{self.denominador} é {valor:.2f}'\n",
    "\n",
    "    #####metodo para criar fracao\n",
    "        \n",
    "fracao1 = Fracao(14, 8)\n",
    "fracao2 = Fracao(7, 12)\n",
    "print(fracao1.somar(3, 5))\n",
    "print(fracao1.subtrair(3, 5))\n",
    "print(fracao1.inverter())\n",
    "print(fracao1.multiplicar(5, 5))\n",
    "print(fracao1.dividir(4, 3))\n",
    "print(fracao1.valor_real())"
   ]
  },
  {
   "cell_type": "markdown",
   "metadata": {},
   "source": [
    "#### Exercício 1: Séries\n"
   ]
  },
  {
   "cell_type": "code",
   "execution_count": 9,
   "metadata": {},
   "outputs": [
    {
     "name": "stdout",
     "output_type": "stream",
     "text": [
      "55\n",
      "3628800\n",
      "True\n"
     ]
    }
   ],
   "source": [
    "class Series:\n",
    "    def __init__(self):\n",
    "        self.memofib = {}\n",
    "        self.memofat = {}\n",
    "        \n",
    "    def fibonacci(self, termo):\n",
    "        if termo == 1 or termo == 2:\n",
    "            return 1\n",
    "        if not self.memofib.get(termo):\n",
    "            self.memofib[termo] = self.fibonacci(termo-1) + self.fibonacci(termo-2)\n",
    "        return self.memofib[termo]\n",
    "\n",
    "    def fat(self, numero):\n",
    "        if numero < 2:\n",
    "            return 1\n",
    "        if not self.memofat.get(numero):\n",
    "            self.memofat[numero] = numero * self.fat(numero-1)\n",
    "        return self.memofat[numero]\n",
    "\n",
    "    def primo(self, numero):\n",
    "        if numero < 2:\n",
    "            return False\n",
    "        if numero < 4:\n",
    "            return True\n",
    "        if numero % 2 == 0:\n",
    "            return False\n",
    "        from math import sqrt\n",
    "        var = int(sqrt(numero)+1)\n",
    "        for i in range(3, var, 2):\n",
    "            if numero % i == 0:\n",
    "                return False\n",
    "        return True\n",
    "        \n",
    "serie1 = Series()\n",
    "print(serie1.fibonacci(10))\n",
    "print(serie1.fat(10))\n",
    "print(serie1.primo(5))\n",
    "    "
   ]
  },
  {
   "cell_type": "markdown",
   "metadata": {},
   "source": [
    "#### Exercício 2 : Baralho de Cartas"
   ]
  },
  {
   "cell_type": "code",
   "execution_count": 68,
   "metadata": {},
   "outputs": [
    {
     "name": "stdout",
     "output_type": "stream",
     "text": [
      "Baralho em sequência:\n",
      "A de Ouro; 2 de Ouro; 3 de Ouro; 4 de Ouro; 5 de Ouro; 6 de Ouro; 7 de Ouro; 8 de Ouro; 9 de Ouro; 10 de Ouro; J de Ouro; Q de Ouro; K de Ouro; A de Espadas; 2 de Espadas; 3 de Espadas; 4 de Espadas; 5 de Espadas; 6 de Espadas; 7 de Espadas; 8 de Espadas; 9 de Espadas; 10 de Espadas; J de Espadas; Q de Espadas; K de Espadas; A de Copas; 2 de Copas; 3 de Copas; 4 de Copas; 5 de Copas; 6 de Copas; 7 de Copas; 8 de Copas; 9 de Copas; 10 de Copas; J de Copas; Q de Copas; K de Copas; A de Paus; 2 de Paus; 3 de Paus; 4 de Paus; 5 de Paus; 6 de Paus; 7 de Paus; 8 de Paus; 9 de Paus; 10 de Paus; J de Paus; Q de Paus; K de Paus; \n",
      "\n",
      "O seu balho foi embaralhado:\n",
      "3 de Ouro; 5 de Ouro; 10 de Paus; 2 de Copas; Q de Copas; A de Paus; 3 de Paus; J de Copas; 4 de Copas; 6 de Espadas; 6 de Copas; 5 de Copas; Q de Paus; 7 de Ouro; 7 de Espadas; J de Paus; A de Copas; 8 de Paus; J de Ouro; 9 de Paus; Q de Ouro; 8 de Copas; 4 de Paus; 5 de Paus; 8 de Espadas; 8 de Ouro; 9 de Copas; 10 de Ouro; 7 de Paus; Q de Espadas; A de Ouro; A de Espadas; 4 de Ouro; K de Paus; 10 de Copas; 5 de Espadas; 7 de Copas; 6 de Paus; 2 de Ouro; 6 de Ouro; J de Espadas; 4 de Espadas; K de Espadas; 2 de Espadas; 10 de Espadas; 9 de Ouro; K de Copas; 9 de Espadas; 3 de Espadas; K de Ouro; 2 de Paus; 3 de Copas; \n"
     ]
    }
   ],
   "source": [
    "class Baralho:\n",
    "    def __init__(self):\n",
    "        self.cartas = []\n",
    "        numero = ['A', '2', '3', '4', '5', '6', '7', '8', '9', '10', 'J', 'Q', 'K']\n",
    "        naipe = ['Ouro', 'Espadas', 'Copas', 'Paus']\n",
    "\n",
    "        for i in naipe:\n",
    "            for j in numero:\n",
    "                carta = Carta(naipe=i, numero=j)\n",
    "                self.cartas.append(carta)\n",
    "\n",
    "    def embaralhar(self):\n",
    "        from random import shuffle\n",
    "        v = self.cartas\n",
    "        shuffle(v)\n",
    "        print(f'O seu balho foi embaralhado:')\n",
    "        for i in v:\n",
    "            print(i, end='; ')\n",
    "        print()\n",
    "\n",
    "    def mostrar_baralho(self):\n",
    "        print(f'Baralho em sequência:')\n",
    "        for i in self.cartas:\n",
    "            print(i, end='; ')\n",
    "        print()\n",
    "        print()\n",
    "\n",
    "class Carta:\n",
    "    def __init__(self, naipe:str, numero:str):\n",
    "        self.naipe = naipe\n",
    "        self.numero = numero\n",
    "\n",
    "    def __str__(self):\n",
    "        return f'{self.numero} de {self.naipe}'\n",
    "\n",
    "baralho = Baralho()\n",
    "baralho.mostrar_baralho()\n",
    "baralho.embaralhar()"
   ]
  },
  {
   "cell_type": "markdown",
   "metadata": {},
   "source": [
    "##### Exercício 1: Banco \n",
    "O banco Tatu, moderno e eficiente, precisa de um novo programa para controlar o saldo d \r\n",
    "seus correntistas. Cada conta corrente pode ter um ou mais clientes como titular. O bano\r\n",
    "controla apenas o nome e o telefone de cada cliente. A conta corrente apresenta um sald e\r\n",
    "uma lista de operações de saques e depósitos. Quando o cliente fizer um saque, diminuirmos\r\n",
    "o saldo da conta corrente. Quando ele fizer um depósito, aumentaremos o saldo. O anco\r\n",
    "oferece também contas especiais, com limite especial além do saldo, e conta poupanç, que\r\n",
    "oferece um rendimento mensal sempre que o saldo na conta completa um mês. Eviden emente\r\n",
    "é necessário oferecer aos clientes a possibilidade de verificar saldos, extratos e u resumo\r\n",
    "com todas as informações da conta e seus respectivos clientes."
   ]
  },
  {
   "cell_type": "code",
   "execution_count": 19,
   "metadata": {},
   "outputs": [
    {
     "name": "stdout",
     "output_type": "stream",
     "text": [
      "O depósito no valor de R$ 500 foi realizado! Saldo atual = R$ 500\n",
      "Não foi possível realizar a operação de saque! Saldo atual = R$ 500\n",
      "O saque no valor de R$ 350 foi realizado! Saldo atual = R$ 150\n",
      "Saldo atual = R$ 150\n",
      "\n",
      "Extrato:\n",
      "22/08 - Depósito de R$500\n",
      "27/08 - Saque de R$350\n",
      "\n",
      "O valor da aplicação de R$ 500 em 30 dias rendeu R$ 3.35!\n"
     ]
    }
   ],
   "source": [
    "class ContaCorrente:\n",
    "    def __init__(self, saldo=0, clientes=[], telefone=''):\n",
    "        self.__saldo = saldo\n",
    "        self.__clientes = clientes\n",
    "        self.__telefone = telefone\n",
    "        self.__operacoes = []\n",
    "        self.__conta_poupanca = 0\n",
    "\n",
    "    def sacar(self, valor_saque, data):\n",
    "        if self.__saldo != 0 and valor_saque <= self.__saldo:\n",
    "            self.__saldo -= valor_saque\n",
    "            self.__operacoes.append(f'{data} - Saque de R${valor_saque}')\n",
    "            return f'O saque no valor de R$ {valor_saque} foi realizado! Saldo atual = R$ {self.__saldo}'\n",
    "        return f'Não foi possível realizar a operação de saque! Saldo atual = R$ {self.__saldo}'\n",
    "\n",
    "    def depositar(self, valor_deposito, data):\n",
    "        if valor_deposito > 50000:\n",
    "            return f'Não é possível realizar esse depósito de uma vez!'\n",
    "        self.__saldo += valor_deposito\n",
    "        self.__operacoes.append(f'{data} - Depósito de R${valor_deposito}')\n",
    "        return f'O depósito no valor de R$ {valor_deposito} foi realizado! Saldo atual = R$ {self.__saldo}'\n",
    "\n",
    "    def mostrar_saldo(self):\n",
    "        return f'Saldo atual = R$ {self.__saldo}'\n",
    "\n",
    "    def emitir_extrato(self):\n",
    "        string = ''\n",
    "        print()\n",
    "        print('Extrato:')\n",
    "        for i in range(len(self.__operacoes)):\n",
    "            string += self.__operacoes[i] + '\\n'\n",
    "        return string\n",
    "\n",
    "    def aplicar_valor_poupanca(self, valor_aplicacao, tempo_em_dias):\n",
    "        valor_com_juros = valor_aplicacao\n",
    "        self.__conta_poupanca += valor_aplicacao\n",
    "        valor_com_juros += valor_aplicacao * ((0.67/100)/30 * tempo_em_dias)\n",
    "        return f'O valor da aplicação de R$ {valor_aplicacao} em {tempo_em_dias} dias rendeu R$ {valor_com_juros - valor_aplicacao:.2f}!'\n",
    "\n",
    "conta1 = ContaCorrente(clientes=['João'], telefone='40028922')\n",
    "print(conta1.depositar(500, '22/08'))\n",
    "print(conta1.sacar(600, '27/08'))\n",
    "print(conta1.sacar(350, '27/08'))\n",
    "print(conta1.mostrar_saldo())\n",
    "print(conta1.emitir_extrato())\n",
    "print(conta1.aplicar_valor_poupanca(500, 30))\n",
    "        "
   ]
  },
  {
   "cell_type": "markdown",
   "metadata": {},
   "source": [
    "##### Exercício 8: Reimplemente o jogo da forca completamente orientado a objetos\r"
   ]
  },
  {
   "cell_type": "code",
   "execution_count": 3,
   "metadata": {},
   "outputs": [
    {
     "name": "stdin",
     "output_type": "stream",
     "text": [
      "Palpite letra/palavra: a\n"
     ]
    },
    {
     "name": "stdout",
     "output_type": "stream",
     "text": [
      "__  __  __  __  __  A \n",
      "Tentativas restantes: 9\n"
     ]
    },
    {
     "name": "stdin",
     "output_type": "stream",
     "text": [
      "Palpite letra/palavra: l\n"
     ]
    },
    {
     "name": "stdout",
     "output_type": "stream",
     "text": [
      "__  __  __  __  __  A \n",
      "Tentativas restantes: 8\n"
     ]
    },
    {
     "name": "stdin",
     "output_type": "stream",
     "text": [
      "Palpite letra/palavra: b\n"
     ]
    },
    {
     "name": "stdout",
     "output_type": "stream",
     "text": [
      "__  __  __  __  __  A \n",
      "Tentativas restantes: 7\n"
     ]
    },
    {
     "name": "stdin",
     "output_type": "stream",
     "text": [
      "Palpite letra/palavra: r\n"
     ]
    },
    {
     "name": "stdout",
     "output_type": "stream",
     "text": [
      "__  __  R __  __  A \n",
      "Tentativas restantes: 6\n"
     ]
    },
    {
     "name": "stdin",
     "output_type": "stream",
     "text": [
      "Palpite letra/palavra: t\n"
     ]
    },
    {
     "name": "stdout",
     "output_type": "stream",
     "text": [
      "__  __  R __  __  A \n",
      "Tentativas restantes: 5\n"
     ]
    },
    {
     "name": "stdin",
     "output_type": "stream",
     "text": [
      "Palpite letra/palavra: u\n"
     ]
    },
    {
     "name": "stdout",
     "output_type": "stream",
     "text": [
      "__  __  R __  __  A \n",
      "Tentativas restantes: 4\n"
     ]
    },
    {
     "name": "stdin",
     "output_type": "stream",
     "text": [
      "Palpite letra/palavra: f\n"
     ]
    },
    {
     "name": "stdout",
     "output_type": "stream",
     "text": [
      "__  __  R __  __  A \n",
      "Tentativas restantes: 3\n"
     ]
    },
    {
     "name": "stdin",
     "output_type": "stream",
     "text": [
      "Palpite letra/palavra: o\n"
     ]
    },
    {
     "name": "stdout",
     "output_type": "stream",
     "text": [
      "__  __  R __  __  A \n",
      "Tentativas restantes: 2\n"
     ]
    },
    {
     "name": "stdin",
     "output_type": "stream",
     "text": [
      "Palpite letra/palavra: c\n"
     ]
    },
    {
     "name": "stdout",
     "output_type": "stream",
     "text": [
      "__  __  R __  __  A \n",
      "Tentativas restantes: 1\n"
     ]
    },
    {
     "name": "stdin",
     "output_type": "stream",
     "text": [
      "Palpite letra/palavra: l\n"
     ]
    },
    {
     "name": "stdout",
     "output_type": "stream",
     "text": [
      "Você já testou essa letra\n"
     ]
    },
    {
     "name": "stdin",
     "output_type": "stream",
     "text": [
      "Palpite letra/palavra: i\n"
     ]
    },
    {
     "name": "stdout",
     "output_type": "stream",
     "text": [
      "__  __  R __  I A \n",
      "Tentativas restantes: 0\n",
      "Você perdeu! A palavra correta era sereia!\n"
     ]
    }
   ],
   "source": [
    "import random\n",
    "class Forca:\n",
    "    def __init__(self, palavra_jogo=['bicicleta', 'girafa', 'esquilo', 'abacaxi', 'elefante', 'xadrez', 'guarda-chuva', 'macarrao', 'coruja', 'televisao', 'mochila', 'lagartixa', 'abajur', 'queijo', 'martelo', 'foguete', 'tigre', 'violino', 'iogurte', 'astronauta', 'cachecol', 'diamante', 'esponja', 'fantasma', 'girassol', 'hamburguer', 'igreja', 'jacare', 'ketchup', 'limonada', 'morcego', 'nariz', 'ovelha', 'pinguim', 'quebra-cabeca', 'robo', 'sereia', 'tartaruga', 'unicornio', 'vassoura', 'waffle', 'xenofobia', 'iate', 'zebra']):\n",
    "        self.__palavra_jogo = palavra_jogo\n",
    "        self.__lista = ''\n",
    "        self.__lista_auxiliar = []\n",
    "        self.__letras_usadas = []\n",
    "        self.__tentativas = 10\n",
    "        self.__venceu = False\n",
    "\n",
    "    def criar_jogo(self):\n",
    "        self.__palavra_jogo =  random.choice(self.__palavra_jogo)\n",
    "        self.__lista = (list(self.__palavra_jogo))\n",
    "        for i in range(len(self.__lista)):\n",
    "            self.__lista[i] = self.__lista[i].upper()\n",
    "        for i in range(len(self.__lista)):\n",
    "            self.__lista_auxiliar.append('__ ')\n",
    "            \n",
    "    def jogar(self, tentativa):\n",
    "        string_aux = ''\n",
    "        if self.__venceu == False:\n",
    "            self.__tentativas -= 1\n",
    "        if tentativa.upper() in self.__letras_usadas:\n",
    "            self.__tentativas += 1\n",
    "            return 'Você já testou essa letra'\n",
    "        self.__letras_usadas.append(tentativa.upper())\n",
    "        for i in range(len(self.__lista)):\n",
    "            if tentativa.upper() == self.__lista[i]:\n",
    "                self.__lista_auxiliar[i] = tentativa.upper()\n",
    "        if tentativa.upper() == self.__palavra_jogo.upper() or '__ ' not in self.__lista_auxiliar:\n",
    "            self.__venceu = True\n",
    "            return 'Parabéns, você acertou!'\n",
    "        for letras in self.__lista_auxiliar:\n",
    "            string_aux += f'{letras} '\n",
    "        string_aux += '\\n' + f'Tentativas restantes: {self.__tentativas}'\n",
    "        return string_aux\n",
    "\n",
    "    def get_palavra(self):\n",
    "        return self.__palavra_jogo\n",
    "        \n",
    "    def get_tentativas(self):\n",
    "        return self.__tentativas\n",
    "\n",
    "    def get_resultado(self):\n",
    "        return self.__venceu\n",
    "        \n",
    "forca = Forca()\n",
    "forca.criar_jogo()\n",
    "\n",
    "while forca.get_tentativas() != 0:\n",
    "    if forca.get_resultado() == True:\n",
    "        break\n",
    "    tentativa = input('Palpite letra/palavra:')\n",
    "    print(forca.jogar(tentativa))\n",
    "if forca.get_resultado() == False:\n",
    "    print(f'Você perdeu! A palavra correta era {forca.get_palavra()}!')"
   ]
  },
  {
   "cell_type": "markdown",
   "metadata": {},
   "source": [
    "##### Exercício 2 Biblioteca \n",
    "Crie as classes necessárias para um sistema de gerenciamento de uma biblioteca. O \r\n",
    "bibliotecários deverão preencher o sistema com o título do livro, os autores, o ano, a editora, a\r\n",
    "edição e o volume. A biblioteca também terá um sistema de pesquisa (outro software), porta to\r\n",
    "será necessário conseguir acessar os atributos típicos de pesquisa (nome, autor, …).\r",
    "ina.al\r",
    "al\r"
   ]
  },
  {
   "cell_type": "code",
   "execution_count": 36,
   "metadata": {},
   "outputs": [
    {
     "name": "stdout",
     "output_type": "stream",
     "text": [
      "titulo: Python3\n",
      "Autor: João\n",
      "Ano: 2023\n",
      "editora: Pense Python\n",
      "edição: 7\n",
      "volume: 3\n",
      "\n",
      "Esse livro não está no sistema!\n",
      "\n",
      "titulo: Aprenda C\n",
      "Autor: Lucas\n",
      "Ano: 2022\n",
      "editora: C é o futuro\n",
      "edição: 2\n",
      "volume: 1\n",
      "\n"
     ]
    }
   ],
   "source": [
    "class Biblioteca:\n",
    "    def __init__(self):\n",
    "        self.__livros = {}\n",
    "\n",
    "    def adicionar_livro(self, titulo, autor, ano, editora='', edicao='', volume=''):   \n",
    "        self.__livros[titulo] = f'titulo: {titulo}\\nAutor: {autor}\\nAno: {ano}\\neditora: {editora}\\nedição: {edicao}\\nvolume: {volume}\\n'\n",
    "        return f'O livro {titulo} foi adicionado ao sistema!'\n",
    "\n",
    "    def procurar_livro(self, titulo):\n",
    "        if titulo.title() in self.__livros.keys():\n",
    "            return self.__livros[titulo.title()]\n",
    "        return f'Esse livro não está no sistema!\\n'\n",
    "\n",
    "livro1 = Biblioteca()\n",
    "livro2 = Biblioteca()\n",
    "livro3 = Biblioteca()\n",
    "livro1.adicionar_livro('Python3','João', '2023', 'Pense Python', '7', '3')\n",
    "livro3.adicionar_livro('Aprenda C', 'Lucas', '2022', 'C é o futuro', '2', '1')\n",
    "print(livro1.procurar_livro('Python3'))\n",
    "print(livro2.procurar_livro('Java para Iniciantes'))\n",
    "print(livro3.procurar_livro('aprenda c'))\n"
   ]
  }
 ],
 "metadata": {
  "kernelspec": {
   "display_name": "Python 3 (ipykernel)",
   "language": "python",
   "name": "python3"
  },
  "language_info": {
   "codemirror_mode": {
    "name": "ipython",
    "version": 3
   },
   "file_extension": ".py",
   "mimetype": "text/x-python",
   "name": "python",
   "nbconvert_exporter": "python",
   "pygments_lexer": "ipython3",
   "version": "3.11.4"
  }
 },
 "nbformat": 4,
 "nbformat_minor": 4
}
