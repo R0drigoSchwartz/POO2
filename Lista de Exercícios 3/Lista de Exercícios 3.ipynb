{
 "cells": [
  {
   "cell_type": "markdown",
   "id": "82cc10c6-2b05-4acd-99ba-a53fc4bc057b",
   "metadata": {},
   "source": [
    "##### Exercício 1. Escreva uma função que conta a frequência de ocorrência de cada  palavra em um texto (arquivo txt) e armazena tal quantidade em um dicionário, onde \n",
    "chave é a vogal considerada.\r"
   ]
  },
  {
   "cell_type": "code",
   "execution_count": 11,
   "id": "5fbfe447-5b15-477a-b5d0-818ad1ff4b6d",
   "metadata": {},
   "outputs": [
    {
     "name": "stdout",
     "output_type": "stream",
     "text": [
      "{'A': 2, 'computação': 2, 'é': 1, 'a': 5, 'ciência': 1, 'que': 2, 'estuda': 1, 'o': 1, 'processamento': 1, 'de': 3, 'informações': 1, 'por': 1, 'meio': 1, 'máquinas': 1, 'como': 1, 'computadores': 1, 'Ela': 1, 'abrange': 1, 'programação': 1, 'algoritmos': 1, 'e': 4, 'hardware': 1, 'permitindo': 1, 'criação': 1, 'software': 1, 'sistemas': 1, 'automatizam': 1, 'tarefas': 1, 'armazenam': 1, 'dados': 1, 'facilitam': 1, 'comunicação': 1, 'desempenha': 1, 'um': 1, 'papel': 1, 'fundamental': 1, 'em': 2, 'nossa': 1, 'vida': 1, 'cotidiana': 1, 'impulsionando': 1, 'tecnologia': 1, 'inovação': 1, 'diversas': 1, 'áreas': 1}\n"
     ]
    }
   ],
   "source": [
    "with open(\"computacao.txt\", \"r\", encoding = \"utf-8\") as arquivo:\n",
    "    texto = arquivo.read()\n",
    "    texto = texto.replace(\",\", \"\").replace(\".\", \"\").split()\n",
    "    \n",
    "dic = {}\n",
    "\n",
    "def freq_palavra():\n",
    "    for str in texto:\n",
    "        if str not in dic.keys():\n",
    "            dic[str] = 1\n",
    "        else:\n",
    "            dic[str] += 1\n",
    "    return dic\n",
    "    \n",
    "print(freq_palavra())"
   ]
  },
  {
   "cell_type": "markdown",
   "id": "1e46e2ec-bf08-4943-91ef-41fec1687585",
   "metadata": {},
   "source": [
    "##### Exercício 2. Escreva uma função que apaga do dicionário anterior, todas as palavras que sejam ‘stopwords’. Ver https://gist.github.com/alopes/5358189\n"
   ]
  },
  {
   "cell_type": "code",
   "execution_count": 12,
   "id": "a2e4a47c-f4bf-45f4-8d2c-341584141faa",
   "metadata": {},
   "outputs": [
    {
     "name": "stdout",
     "output_type": "stream",
     "text": [
      "{'A': 2, 'computação': 2, 'ciência': 1, 'estuda': 1, 'processamento': 1, 'informações': 1, 'meio': 1, 'máquinas': 1, 'computadores': 1, 'Ela': 1, 'abrange': 1, 'programação': 1, 'algoritmos': 1, 'hardware': 1, 'permitindo': 1, 'criação': 1, 'software': 1, 'sistemas': 1, 'automatizam': 1, 'tarefas': 1, 'armazenam': 1, 'dados': 1, 'facilitam': 1, 'comunicação': 1, 'desempenha': 1, 'papel': 1, 'fundamental': 1, 'vida': 1, 'cotidiana': 1, 'impulsionando': 1, 'tecnologia': 1, 'inovação': 1, 'diversas': 1, 'áreas': 1}\n"
     ]
    }
   ],
   "source": [
    "with open(\"stopwords.txt\", \"r\", encoding = \"utf-8\") as arquivo:\n",
    "    stopwords = arquivo.read().split()\n",
    "\n",
    "def apagar_stopwords():\n",
    "    for palavras in stopwords:\n",
    "        if palavras in dic.keys():\n",
    "            del dic[palavras]\n",
    "    return dic\n",
    "\n",
    "print(apagar_stopwords())"
   ]
  },
  {
   "cell_type": "markdown",
   "id": "499cda1d-d10b-48e5-ba63-314fa0725b43",
   "metadata": {},
   "source": [
    "##### Exercício 3. Escreva um programa que lê duas notas de vários alunos e armazena tais \n",
    "notas em um dicionário, onde a chave é o nome do aluno. A entrada de dados dev \r\n",
    "terminar quando for lida uma string vazia como nome. Escreva uma função que retor a\r\n",
    "a média do aluno, dado seu nome."
   ]
  },
  {
   "cell_type": "code",
   "execution_count": 26,
   "id": "25d1c091-d182-47f8-9033-0d3cfb913dff",
   "metadata": {},
   "outputs": [
    {
     "name": "stdin",
     "output_type": "stream",
     "text": [
      "Insira o nome do(a) aluno(a): Rodrigo\n",
      "Insira as notas desse(a) aluno(a): 8 9\n",
      "Insira o nome do(a) aluno(a): Bruna\n",
      "Insira as notas desse(a) aluno(a): 10 9\n",
      "Insira o nome do(a) aluno(a): Ana\n",
      "Insira as notas desse(a) aluno(a): 9 7\n",
      "Insira o nome do(a) aluno(a): \n"
     ]
    },
    {
     "name": "stdout",
     "output_type": "stream",
     "text": [
      "Rodrigo Bruna Ana "
     ]
    },
    {
     "name": "stdin",
     "output_type": "stream",
     "text": [
      "Digite o nome de um desses alunos para ver a média: Bruna\n"
     ]
    },
    {
     "name": "stdout",
     "output_type": "stream",
     "text": [
      "A média do(a) aluno(a) Bruna é: 9.5\n"
     ]
    }
   ],
   "source": [
    "def calcular_media(nome):\n",
    "    media = 0\n",
    "    for notas in dic[nome]:\n",
    "        media += notas\n",
    "        \n",
    "    return f\"A média do(a) aluno(a) {aluno} é: {media/2}\"\n",
    "\n",
    "nome = input(\"Insira o nome do(a) aluno(a):\")\n",
    "dic = {}\n",
    "while nome != '':\n",
    "    nota1, nota2 = map(int, input(\"Insira as notas desse(a) aluno(a):\").split())\n",
    "    dic[nome] = [nota1, nota2]\n",
    "    \n",
    "    nome = input(\"Insira o nome do(a) aluno(a):\")\n",
    "\n",
    "for chaves in dic:\n",
    "    print(f\"{chaves} \",end=\"\")\n",
    "\n",
    "aluno = input(\"Digite o nome de um desses alunos para ver a média:\")\n",
    "print(calcular_media(aluno))"
   ]
  },
  {
   "cell_type": "markdown",
   "id": "fcc476dc-48ad-4e82-b302-35fd956d60ea",
   "metadata": {},
   "source": [
    "##### Exercício 4. Uma pista de Kart permite 10 voltas para cada um de 6 corredores. \n",
    "Escreva um programa que leia todos os tempos em segundos e os guarde em u \r\n",
    "dicionário, onde a chave é o nome do corredor. Ao final diga de quem foi a melhor vol a\r\n",
    "da prova e em que volta; e ainda a classificação final em ordem (1o o campeão)  O\r\n",
    "campeão é o que tem a menor média de tempos."
   ]
  },
  {
   "cell_type": "code",
   "execution_count": 2,
   "id": "b95248a8-a315-477c-8b1f-f4f9dd40c644",
   "metadata": {},
   "outputs": [
    {
     "name": "stdin",
     "output_type": "stream",
     "text": [
      "Nome do(a) piloto(a): Joana\n",
      "Digite o tempo em segundos da volta nº 1: 70\n",
      "Digite o tempo em segundos da volta nº 2: 78\n",
      "Digite o tempo em segundos da volta nº 3: 64\n",
      "Digite o tempo em segundos da volta nº 4: 85\n",
      "Digite o tempo em segundos da volta nº 5: 61\n",
      "Digite o tempo em segundos da volta nº 6: 89\n",
      "Digite o tempo em segundos da volta nº 7: 72\n",
      "Digite o tempo em segundos da volta nº 8: 62\n",
      "Digite o tempo em segundos da volta nº 9: 91\n",
      "Digite o tempo em segundos da volta nº 10: 67\n",
      "Nome do(a) piloto(a): Felipe\n",
      "Digite o tempo em segundos da volta nº 1: 62\n",
      "Digite o tempo em segundos da volta nº 2: 81\n",
      "Digite o tempo em segundos da volta nº 3: 90\n",
      "Digite o tempo em segundos da volta nº 4: 69\n",
      "Digite o tempo em segundos da volta nº 5: 76\n",
      "Digite o tempo em segundos da volta nº 6: 87\n",
      "Digite o tempo em segundos da volta nº 7: 63\n",
      "Digite o tempo em segundos da volta nº 8: 70\n",
      "Digite o tempo em segundos da volta nº 9: 80\n",
      "Digite o tempo em segundos da volta nº 10: 91\n",
      "Nome do(a) piloto(a): Carolina\n",
      "Digite o tempo em segundos da volta nº 1: 68\n",
      "Digite o tempo em segundos da volta nº 2: 84\n",
      "Digite o tempo em segundos da volta nº 3: 61\n",
      "Digite o tempo em segundos da volta nº 4: 77\n",
      "Digite o tempo em segundos da volta nº 5: 75\n",
      "Digite o tempo em segundos da volta nº 6: 86\n",
      "Digite o tempo em segundos da volta nº 7: 71\n",
      "Digite o tempo em segundos da volta nº 8: 60\n",
      "Digite o tempo em segundos da volta nº 9: 88\n",
      "Digite o tempo em segundos da volta nº 10: 72\n",
      "Nome do(a) piloto(a): Ricardo\n",
      "Digite o tempo em segundos da volta nº 1: 80\n",
      "Digite o tempo em segundos da volta nº 2: 61\n",
      "Digite o tempo em segundos da volta nº 3: 76\n",
      "Digite o tempo em segundos da volta nº 4: 66\n",
      "Digite o tempo em segundos da volta nº 5: 82\n",
      "Digite o tempo em segundos da volta nº 6: 63\n",
      "Digite o tempo em segundos da volta nº 7: 87\n",
      "Digite o tempo em segundos da volta nº 8: 71\n",
      "Digite o tempo em segundos da volta nº 9: 68\n",
      "Digite o tempo em segundos da volta nº 10: 92\n",
      "Nome do(a) piloto(a): Isabela\n",
      "Digite o tempo em segundos da volta nº 1: 89\n",
      "Digite o tempo em segundos da volta nº 2: 67\n",
      "Digite o tempo em segundos da volta nº 3: 83\n",
      "Digite o tempo em segundos da volta nº 4: 61\n",
      "Digite o tempo em segundos da volta nº 5: 72\n",
      "Digite o tempo em segundos da volta nº 6: 70\n",
      "Digite o tempo em segundos da volta nº 7: 86\n",
      "Digite o tempo em segundos da volta nº 8: 62\n",
      "Digite o tempo em segundos da volta nº 9: 79\n",
      "Digite o tempo em segundos da volta nº 10: 75\n",
      "Nome do(a) piloto(a): André\n",
      "Digite o tempo em segundos da volta nº 1: 63\n",
      "Digite o tempo em segundos da volta nº 2: 88\n",
      "Digite o tempo em segundos da volta nº 3: 73\n",
      "Digite o tempo em segundos da volta nº 4: 82\n",
      "Digite o tempo em segundos da volta nº 5: 69\n",
      "Digite o tempo em segundos da volta nº 6: 60\n",
      "Digite o tempo em segundos da volta nº 7: 91\n",
      "Digite o tempo em segundos da volta nº 8: 77\n",
      "Digite o tempo em segundos da volta nº 9: 70\n",
      "Digite o tempo em segundos da volta nº 10: 84\n"
     ]
    },
    {
     "name": "stdout",
     "output_type": "stream",
     "text": [
      "\n",
      "A volta mais rápida foi feita em 60s\n",
      "1º lugar - Joana - tempo médio: 73.9s \n",
      "2º lugar - Carolina - tempo médio: 74.2s \n",
      "3º lugar - Isabela - tempo médio: 74.4s \n",
      "4º lugar - Ricardo - tempo médio: 74.6s \n",
      "5º lugar - André - tempo médio: 75.7s \n",
      "6º lugar - Felipe - tempo médio: 76.9s \n",
      "\n"
     ]
    }
   ],
   "source": [
    "dic_voltas = {}\n",
    "\n",
    "for i in range(6):\n",
    "    nome = input(\"Nome do(a) piloto(a):\")\n",
    "\n",
    "    cont = 0\n",
    "    vet = []\n",
    "    \n",
    "    for i in range(10):\n",
    "        cont += 1\n",
    "        volta = int(input(f\"Digite o tempo em segundos da volta nº {cont}:\"))\n",
    "        vet.append(volta)\n",
    "    dic_voltas[nome] = vet\n",
    "\n",
    "print()\n",
    "\n",
    "def calcular_menor_tempo():\n",
    "    mtempo = 10000\n",
    "    for chaves in dic_voltas:\n",
    "        for tempo in dic_voltas[chaves]:\n",
    "            if tempo < mtempo:\n",
    "                mtempo = tempo\n",
    "    return f\"A volta mais rápida foi feita em {mtempo}s\"\n",
    "\n",
    "def podio():\n",
    "    dic_media = {}\n",
    "    vet_podio = []\n",
    "    podio = \"\"\n",
    "    contador_podio = 0\n",
    "    \n",
    "    for chaves in dic_voltas:\n",
    "        media = 0\n",
    "        for tempos in dic_voltas[chaves]:\n",
    "            media += tempos\n",
    "        media = media / 10\n",
    "        dic_media[chaves] = media\n",
    "\n",
    "    for chaves in dic_media:\n",
    "        vet_podio.append(dic_media[chaves])\n",
    "    vet_podio.sort()\n",
    "\n",
    "    for tempo in vet_podio:\n",
    "        contador_podio += 1\n",
    "        for chaves in dic_media:\n",
    "            if dic_media[chaves] == tempo:\n",
    "                podio += f\"{contador_podio}º lugar - {chaves} - tempo médio: {tempo}s \\n\"\n",
    "    return podio\n",
    "\n",
    "print(calcular_menor_tempo())\n",
    "print(podio())"
   ]
  },
  {
   "cell_type": "markdown",
   "id": "21dc3d55-43c7-41a8-b00a-0478a97bb2bd",
   "metadata": {},
   "source": [
    "##### Exercício 6. Criar 10 frozensets com 30 números aleatórios cada, e construir um \n",
    "dicionário que contenha a soma de cada um deles."
   ]
  },
  {
   "cell_type": "code",
   "execution_count": 7,
   "id": "8c0a0054-eed3-404a-8bd3-da939cf8b709",
   "metadata": {},
   "outputs": [
    {
     "name": "stdout",
     "output_type": "stream",
     "text": [
      "{'frozenset1': 1284, 'frozenset2': 1352, 'frozenset3': 1092, 'frozenset4': 1307, 'frozenset5': 1218, 'frozenset6': 1211, 'frozenset7': 1206, 'frozenset8': 1240, 'frozenset9': 1224, 'frozenset10': 1363}\n"
     ]
    }
   ],
   "source": [
    "import random\n",
    "\n",
    "fsets = []\n",
    "dicsoma = {}\n",
    "\n",
    "for i in range(10):\n",
    "    fset = set()\n",
    "    for i in range(30):\n",
    "        numero = random.randint(1, 100)\n",
    "        fset.add(numero)\n",
    "    fset = frozenset(fset)\n",
    "    fsets.append(fset)\n",
    "\n",
    "for i in range(len(fsets)):\n",
    "    soma = 0\n",
    "    for numeros in fsets[i]:\n",
    "        soma += numeros\n",
    "    dicsoma[f\"frozenset{i+1}\"] = soma\n",
    "\n",
    "print(dicsoma)"
   ]
  }
 ],
 "metadata": {
  "kernelspec": {
   "display_name": "Python 3 (ipykernel)",
   "language": "python",
   "name": "python3"
  },
  "language_info": {
   "codemirror_mode": {
    "name": "ipython",
    "version": 3
   },
   "file_extension": ".py",
   "mimetype": "text/x-python",
   "name": "python",
   "nbconvert_exporter": "python",
   "pygments_lexer": "ipython3",
   "version": "3.11.4"
  }
 },
 "nbformat": 4,
 "nbformat_minor": 5
}
